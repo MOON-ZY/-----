{
 "cells": [
  {
   "cell_type": "code",
   "execution_count": 1,
   "id": "9c4a4d5d",
   "metadata": {},
   "outputs": [],
   "source": [
    "import os\n",
    "os.environ[\"KMP_DUPLICATE_LIB_OK\"]=\"TRUE\""
   ]
  },
  {
   "cell_type": "code",
   "execution_count": 6,
   "id": "91e5d8ec",
   "metadata": {},
   "outputs": [
    {
     "name": "stdout",
     "output_type": "stream",
     "text": [
      "tensor([[5, 2, 0, 0, 0],\n",
      "        [7, 1, 3, 3, 0]])\n",
      "tensor([[1, 7, 5, 7, 0],\n",
      "        [7, 7, 7, 0, 0]])\n"
     ]
    }
   ],
   "source": [
    "import torch\n",
    "import numpy\n",
    "import torch.nn as nn\n",
    "import torch.nn.functional as F\n",
    "##构建序列，序列字符在词表中以所赢得形式呈现\n",
    "\n",
    "batch_size = 2\n",
    "#单词表大小\n",
    "max_num_src_words = 8\n",
    "max_num_tgt_words = 8\n",
    "#序列表的最大长度\n",
    "max_src_seq_len = 5\n",
    "max_tgt_seq_len = 5\n",
    "\n",
    "src_len = torch.randint(2,5,(batch_size,))\n",
    "tgt_len = torch.randint(2,5,(batch_size,))\n",
    "src_len = torch.Tensor([2,4]).to(torch.int32)\n",
    "tgt_len = torch.Tensor([4,3]).to(torch.int32)\n",
    "src_seq = torch.cat([torch.unsqueeze(F.pad(torch.randint(1,8,(L,)),(0,max_src_seq_len-L)),0) \n",
    "                     for L in src_len])    #张量变二维，向量黏贴\n",
    "tgt_seq = torch.cat([torch.unsqueeze(F.pad(torch.randint(1,8,(L,)),(0,max_tgt_seq_len-L)),0) \n",
    "                     for L in tgt_len])    #张量变二维，向量黏贴\n",
    "\n",
    "print(src_seq) #原序列单词索引\n",
    "print(tgt_seq)#目标序列单词索引"
   ]
  },
  {
   "cell_type": "code",
   "execution_count": null,
   "id": "1b8e6fa5",
   "metadata": {},
   "outputs": [],
   "source": []
  }
 ],
 "metadata": {
  "kernelspec": {
   "display_name": "YY",
   "language": "python",
   "name": "yy"
  },
  "language_info": {
   "codemirror_mode": {
    "name": "ipython",
    "version": 3
   },
   "file_extension": ".py",
   "mimetype": "text/x-python",
   "name": "python",
   "nbconvert_exporter": "python",
   "pygments_lexer": "ipython3",
   "version": "3.9.19"
  }
 },
 "nbformat": 4,
 "nbformat_minor": 5
}
